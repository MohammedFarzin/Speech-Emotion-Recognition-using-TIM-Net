{
  "nbformat": 4,
  "nbformat_minor": 0,
  "metadata": {
    "colab": {
      "provenance": [],
      "gpuType": "T4",
      "mount_file_id": "1ls11mnRoVNM5FpyFIJka6W6pRIsZEDHg",
      "authorship_tag": "ABX9TyNwNwyzVeQapOHp7wb//rwn",
      "include_colab_link": true
    },
    "kernelspec": {
      "name": "python3",
      "display_name": "Python 3"
    },
    "language_info": {
      "name": "python"
    }
  },
  "cells": [
    {
      "cell_type": "markdown",
      "metadata": {
        "id": "view-in-github",
        "colab_type": "text"
      },
      "source": [
        "<a href=\"https://colab.research.google.com/github/MohammedFarzin/Speech-Emotion-Recognition-using-TIM-Net/blob/main/model.ipynb\" target=\"_parent\"><img src=\"https://colab.research.google.com/assets/colab-badge.svg\" alt=\"Open In Colab\"/></a>"
      ]
    },
    {
      "cell_type": "markdown",
      "source": [
        "\n",
        "\n",
        "## Importing libraries"
      ],
      "metadata": {
        "id": "sgMyBS6ly0k-"
      }
    },
    {
      "cell_type": "code",
      "source": [
        "from google.colab import drive\n",
        "drive.mount('/content/drive')"
      ],
      "metadata": {
        "colab": {
          "base_uri": "https://localhost:8080/"
        },
        "id": "3PncBd9kFSKL",
        "outputId": "e84c65db-bc78-44ec-cfcd-5e3389f97353"
      },
      "execution_count": 1,
      "outputs": [
        {
          "output_type": "stream",
          "name": "stdout",
          "text": [
            "Drive already mounted at /content/drive; to attempt to forcibly remount, call drive.mount(\"/content/drive\", force_remount=True).\n"
          ]
        }
      ]
    },
    {
      "cell_type": "code",
      "source": [
        "%cd /content/drive/MyDrive/Colab Notebooks/Speech Emotion Recognition/TIM-NET"
      ],
      "metadata": {
        "colab": {
          "base_uri": "https://localhost:8080/"
        },
        "id": "8zhlLfrSMxFC",
        "outputId": "c7e7cc30-0fd2-49de-97bf-533ca7119cd0"
      },
      "execution_count": 3,
      "outputs": [
        {
          "output_type": "stream",
          "name": "stdout",
          "text": [
            "/content/drive/MyDrive/Colab Notebooks/Speech Emotion Recognition/TIM-NET\n"
          ]
        }
      ]
    },
    {
      "cell_type": "code",
      "source": [
        "import numpy as np\n",
        "import tensorflow.keras.backend as K\n",
        "import os\n",
        "import tensorflow as tf\n",
        "from tensorflow.keras.optimizers import SGD, Adam\n",
        "from tensorflow.keras import callbacks\n",
        "from tensorflow.keras.layers import Layer, Dense, Input\n",
        "from tensorflow.keras.models import Model\n",
        "from sklearn.metrics import confusion_matrix\n",
        "from Common_Model import Common_Model\n",
        "from sklearn.model_selection import KFold\n",
        "from sklearn.metrics import classification_report, confusion_matrix\n",
        "import datetime\n",
        "import pandas as pd\n",
        "from TIMNET import TIMNET"
      ],
      "metadata": {
        "id": "ctypRtpZy7VY"
      },
      "execution_count": 4,
      "outputs": []
    },
    {
      "cell_type": "code",
      "source": [
        "# Smoothing labels\n",
        "def smooth_lables(labels, factor=0.1):\n",
        "    labels *= (1-factor)\n",
        "    labels += (factor/labels.shape[1])\n",
        "    return labels\n",
        "\n",
        "# softmax\n",
        "def softmax(x, axis=-1):\n",
        "  ex = K.ex(x - K.max(x, axis=axis, keepdims=True))\n",
        "  return ex/K.sum(ex, axis=axis, keepdims=True)"
      ],
      "metadata": {
        "id": "e_P9976qzIEz"
      },
      "execution_count": 8,
      "outputs": []
    },
    {
      "cell_type": "code",
      "source": [
        "class WeightLayer(Layer):\n",
        "  def __init__(self, **kwargs):\n",
        "    super(WeightLayer, self).__init__(**kwargs)\n",
        "\n",
        "  def build(self, input_shape):\n",
        "    self.kernel = self.add_weight(name='kernel', shape=(input_shape[1], 1), initializer='uniform', trainable=True)\n",
        "    super(WeightLayer, self).build(input_shape)\n",
        "\n",
        "  def call(self, x):\n",
        "    tempx = tf.transpose(x, [0, 2, 1])\n",
        "    x = K.dot(tempx, self.kernel)\n",
        "    x = tf.squeeze(x, axis=-1)\n",
        "    return x\n",
        "\n",
        "  def compute_output_shape(self, input_shape):\n",
        "    return (input_shape[0], input_shape[2])"
      ],
      "metadata": {
        "id": "s67PpSA2I5lG"
      },
      "execution_count": 9,
      "outputs": []
    },
    {
      "cell_type": "code",
      "source": [
        "class TIMNET_Model(Common_Model):\n",
        "  def __init__(self, args, input_shape, class_label, **params):\n",
        "    super(TIMNET_Model, self).__init__(**params)\n",
        "    self.args = args\n",
        "    self.data_shape = input_shape\n",
        "    self.num_classes = len(class_label)\n",
        "    self.class_label = class_label\n",
        "    self.matrix = []\n",
        "    self.eva_matrix = []\n",
        "    self.acc = 0\n",
        "    print('TIMNET MODEL SHAPE: ', input_shape)\n",
        "\n",
        "  def create_model(self):\n",
        "    self.inputs = Input(shape = (self.data_shape[0], self.data_shape[1]))\n",
        "    self.multi_decision = TIMNET(nb_filters=self.args.filter_size, kernel_size=self.args.kernel_size, nb_stack=self.args.stack_size, dilation=self.args.dilation_size,\n",
        "                                 activation=self.args.activation, dropout_rate=self.args.dropout_rate, return_sequence=True, name='TIMNET')(self.inputs)\n",
        "\n"
      ],
      "metadata": {
        "id": "hhRIvs0eKZ0Y"
      },
      "execution_count": null,
      "outputs": []
    }
  ]
}