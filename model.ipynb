{
  "nbformat": 4,
  "nbformat_minor": 0,
  "metadata": {
    "colab": {
      "provenance": [],
      "gpuType": "T4",
      "mount_file_id": "1ls11mnRoVNM5FpyFIJka6W6pRIsZEDHg",
      "authorship_tag": "ABX9TyN1G8ImyUi32RaPFPyf5jBt",
      "include_colab_link": true
    },
    "kernelspec": {
      "name": "python3",
      "display_name": "Python 3"
    },
    "language_info": {
      "name": "python"
    }
  },
  "cells": [
    {
      "cell_type": "markdown",
      "metadata": {
        "id": "view-in-github",
        "colab_type": "text"
      },
      "source": [
        "<a href=\"https://colab.research.google.com/github/MohammedFarzin/Speech-Emotion-Recognition-using-TIM-Net/blob/main/model.ipynb\" target=\"_parent\"><img src=\"https://colab.research.google.com/assets/colab-badge.svg\" alt=\"Open In Colab\"/></a>"
      ]
    },
    {
      "cell_type": "markdown",
      "source": [
        "\n",
        "\n",
        "## Importing libraries"
      ],
      "metadata": {
        "id": "sgMyBS6ly0k-"
      }
    },
    {
      "cell_type": "code",
      "source": [
        "from google.colab import drive\n",
        "drive.mount('/content/drive')"
      ],
      "metadata": {
        "colab": {
          "base_uri": "https://localhost:8080/"
        },
        "id": "3PncBd9kFSKL",
        "outputId": "7a8235bc-6df0-42fa-b68e-bf640a5cdebd"
      },
      "execution_count": 1,
      "outputs": [
        {
          "output_type": "stream",
          "name": "stdout",
          "text": [
            "Drive already mounted at /content/drive; to attempt to forcibly remount, call drive.mount(\"/content/drive\", force_remount=True).\n"
          ]
        }
      ]
    },
    {
      "cell_type": "code",
      "source": [
        "%cd /content/drive/MyDrive/Colab Notebooks/Speech Emotion Recognition/TIM-NET"
      ],
      "metadata": {
        "colab": {
          "base_uri": "https://localhost:8080/"
        },
        "id": "8zhlLfrSMxFC",
        "outputId": "dbc91f58-47cd-4b54-dc37-a8aaae895d35"
      },
      "execution_count": 2,
      "outputs": [
        {
          "output_type": "stream",
          "name": "stdout",
          "text": [
            "/content/drive/MyDrive/Colab Notebooks/Speech Emotion Recognition/TIM-NET\n"
          ]
        }
      ]
    },
    {
      "cell_type": "code",
      "source": [
        "import numpy as np\n",
        "import tensorflow.keras.backend as K\n",
        "import os\n",
        "import tensorflow as tf\n",
        "from tensorflow.keras.optimizers import SGD, Adam\n",
        "from tensorflow.keras import callbacks\n",
        "from tensorflow.keras.layers import Layer, Dense, Input\n",
        "from tensorflow.keras.models import Model\n",
        "from sklearn.metrics import confusion_matrix\n",
        "from Common_Model import Common_Model\n",
        "from sklearn.model_selection import KFold\n",
        "from sklearn.metrics import classification_report, confusion_matrix\n",
        "import datetime\n",
        "import pandas as pd\n",
        "from TIMNET import TIMNET"
      ],
      "metadata": {
        "id": "ctypRtpZy7VY"
      },
      "execution_count": 3,
      "outputs": []
    },
    {
      "cell_type": "code",
      "source": [
        "# Smoothing labels\n",
        "def smooth_labels(labels, factor=0.1):\n",
        "    labels *= (1-factor)\n",
        "    labels += (factor/labels.shape[1])\n",
        "    return labels\n",
        "\n",
        "# softmax\n",
        "def softmax(x, axis=-1):\n",
        "  ex = K.ex(x - K.max(x, axis=axis, keepdims=True))\n",
        "  return ex/K.sum(ex, axis=axis, keepdims=True)"
      ],
      "metadata": {
        "id": "e_P9976qzIEz"
      },
      "execution_count": 8,
      "outputs": []
    },
    {
      "cell_type": "code",
      "source": [
        "class WeightLayer(Layer):\n",
        "  def __init__(self, **kwargs):\n",
        "    super(WeightLayer, self).__init__(**kwargs)\n",
        "\n",
        "  def build(self, input_shape):\n",
        "    self.kernel = self.add_weight(name='kernel', shape=(input_shape[1], 1), initializer='uniform', trainable=True)\n",
        "    super(WeightLayer, self).build(input_shape)\n",
        "\n",
        "  def call(self, x):\n",
        "    tempx = tf.transpose(x, [0, 2, 1])\n",
        "    x = K.dot(tempx, self.kernel)\n",
        "    x = tf.squeeze(x, axis=-1)\n",
        "    return x\n",
        "\n",
        "  def compute_output_shape(self, input_shape):\n",
        "    return (input_shape[0], input_shape[2])"
      ],
      "metadata": {
        "id": "s67PpSA2I5lG"
      },
      "execution_count": 9,
      "outputs": []
    },
    {
      "cell_type": "code",
      "source": [
        "from re import S\n",
        "class TIMNET_Model(Common_Model):\n",
        "  def __init__(self, args, input_shape, class_label, **params):\n",
        "    super(TIMNET_Model, self).__init__(**params)\n",
        "    self.args = args\n",
        "    self.data_shape = input_shape\n",
        "    self.num_classes = len(class_label)\n",
        "    self.class_label = class_label\n",
        "    self.matrix = []\n",
        "    self.eva_matrix = []\n",
        "    self.acc = 0\n",
        "    print('TIMNET MODEL SHAPE: ', input_shape)\n",
        "\n",
        "  def create_model(self):\n",
        "    self.inputs = Input(shape = (self.data_shape[0], self.data_shape[1]))\n",
        "    self.multi_decision = TIMNET(nb_filters=self.args.filter_size, kernel_size=self.args.kernel_size, nb_stack=self.args.stack_size, dilation=self.args.dilation_size,\n",
        "                                 activation=self.args.activation, dropout_rate=self.args.dropout_rate, return_sequence=True, name='TIMNET')(self.inputs)\n",
        "    self.decision = WeightLayer()(self.multi_decision)\n",
        "    self.predictions = Dense(self.num_classes, activation='softmax')(self.decision)\n",
        "    self.model = Model(inputs=self.decision, outputs=self.predictions)\n",
        "\n",
        "    self.model.compile(loss='categorical_crossentropy', optimizer=Adam(learning_rate=self.args.lr, beta_1=self.args.beta1, beta_2=self.args.beta2, epsilon=1e-8), metrics=['accuracy'])\n",
        "    print('Temporal Create Success')\n",
        "\n",
        "  def train(self, x, y):\n",
        "\n",
        "    filepath = self.args.model_path\n",
        "    resultpath = self.args.result_path\n",
        "\n",
        "    if not os.path.exists(filepath):\n",
        "      os.mkdir(filepath)\n",
        "\n",
        "    if not os.path.exist(resultpath):\n",
        "      os.mkdir(resultpath)\n",
        "\n",
        "    i = 1\n",
        "    now = datetime.datetime.now()\n",
        "    now_time = datetime.datetime.strftime(now, '%Y-%m-%d_%H-%M-%S')\n",
        "    kfold = KFold(n_splits=self.args.split_fold, shuffle=True, random_state=self.args.random_seed)\n",
        "    avg_accuracy = 0\n",
        "    avg_loss = 0\n",
        "\n",
        "    for train, test in kfold.split(x, y):\n",
        "      self.create_model()\n",
        "      y[train] = smooth_labels(y[train], 0.1)\n",
        "\n",
        "      folder_address = filepath+self.args.data+'_'+str(self.args.random_seed)+'_'+now_time\n",
        "      if not os.path.exists(folder_address):\n",
        "        os.mkdir(folder_address)\n",
        "\n",
        "      weight_path = folder_address+'/'+str(self.args.split_fold)+'-fold_weights_best_'+str(i)+'.hdf5'\n",
        "      checkpoint = callbacks.ModelCheckpoint(weight_path, monitor='val_accuracy', verbose=1, save_best_only=True, save_weights_only=True, mode='max')\n",
        "      max_acc = 0\n",
        "      best_eva_list = []\n",
        "\n",
        "      h = self.model.fit(x[train], y[train], validation_data=(x[test], y[test]), batch_size=self.args.batch_size, epochs=self.args.epoch, verbose=1, callbacks=[checkpoint])\n",
        "      self.model.load_weights(weight_path)\n",
        "      best_eva_list = self.model.evaluate[x[test], y[test]]\n",
        "      avg_loss += best_eva_list[0]\n",
        "      avg_accuracy += best_eva_list[1]\n",
        "      print(str(i)+'_Model evaluation:  ', best_eva_list, \"     Now ACC: \", str(round(avg_accuracy*10000)/100/i))\n",
        "\n",
        "      i += 1\n",
        "\n",
        "\n"
      ],
      "metadata": {
        "id": "hhRIvs0eKZ0Y"
      },
      "execution_count": 12,
      "outputs": []
    },
    {
      "cell_type": "code",
      "source": [],
      "metadata": {
        "id": "OWwFxLEl-oOL"
      },
      "execution_count": 10,
      "outputs": []
    }
  ]
}