{
  "nbformat": 4,
  "nbformat_minor": 0,
  "metadata": {
    "colab": {
      "provenance": [],
      "mount_file_id": "1z9RM1g9IRlkGxpKoOm_PvQs0o_0Jpf39",
      "authorship_tag": "ABX9TyMEDA8RcBU9Kynkhh9loElu",
      "include_colab_link": true
    },
    "kernelspec": {
      "name": "python3",
      "display_name": "Python 3"
    },
    "language_info": {
      "name": "python"
    }
  },
  "cells": [
    {
      "cell_type": "markdown",
      "metadata": {
        "id": "view-in-github",
        "colab_type": "text"
      },
      "source": [
        "<a href=\"https://colab.research.google.com/github/MohammedFarzin/Speech-Emotion-Recognition-using-TIM-Net/blob/main/main.ipynb\" target=\"_parent\"><img src=\"https://colab.research.google.com/assets/colab-badge.svg\" alt=\"Open In Colab\"/></a>"
      ]
    },
    {
      "cell_type": "markdown",
      "source": [
        "## Importing libraries"
      ],
      "metadata": {
        "id": "BjZzu2_fm5Tp"
      }
    },
    {
      "cell_type": "code",
      "source": [
        "import numpy as np\n",
        "import os\n",
        "import tensorflow as tf\n",
        "import argparse"
      ],
      "metadata": {
        "id": "8H-ChxbQnBP8"
      },
      "execution_count": null,
      "outputs": []
    },
    {
      "cell_type": "code",
      "source": [
        "%cd /content/drive/MyDrive/Colab Notebooks/Speech Emotion Recognition/TIM-NET/TIM-Net_SER/Code"
      ],
      "metadata": {
        "colab": {
          "base_uri": "https://localhost:8080/"
        },
        "id": "_3arH8ec9MhT",
        "outputId": "f536f58b-64d9-411d-9e64-0c297fcd92f4"
      },
      "execution_count": null,
      "outputs": [
        {
          "output_type": "stream",
          "name": "stdout",
          "text": [
            "/content/drive/MyDrive/Colab Notebooks/Speech Emotion Recognition/TIM-NET/TIM-Net_SER/Code\n"
          ]
        }
      ]
    },
    {
      "cell_type": "markdown",
      "source": [
        "## Setting command line arguments"
      ],
      "metadata": {
        "id": "uUaTgIlZnKoD"
      }
    },
    {
      "cell_type": "code",
      "source": [
        "parser = argparse.ArgumentParser()\n",
        "\n",
        "parser.add_argument('--mode', type=str, default='train')\n",
        "parser.add_argument('--model_path', type=str, default='./Models/')\n",
        "parser.add_argument('--result_path', type=str, default='./Results/')\n",
        "parser.add_argument('--test_path', type=str, default='./Test_Models/EMODB_46')\n",
        "parser.add_argument('--data', type=str, default='EMODB')\n",
        "parser.add_argument('--lr', type=float, default=0.001)\n",
        "parser.add_argument('--beta1', type=float, default=0.93)\n",
        "parser.add_argument('--beta2', type=float, default=0.98)\n",
        "parser.add_argument('--batch_size', type=int, default=64)\n",
        "parser.add_argument('--epoch', type=int, default=60)\n",
        "parser.add_argument('--dropout', type=float, default=0.1)\n",
        "parser.add_argument('--random_seed', type=int, default=46)\n",
        "parser.add_argument('--activation', type=str, default='relu')\n",
        "parser.add_argument('--filter_size', type=int, default=39)\n",
        "parser.add_argument('--dilation_size', type=int, default=8)\n",
        "parser.add_argument('--kernel_size', type=int, default=2)\n",
        "parser.add_argument('--stack_size', type=int, default=1)\n",
        "parser.add_argument('--split-fold', type=int, default=10)\n",
        "parser.add_argument('--gpu', type=str, default='0')\n",
        "\n",
        "args, unknown = parser.parse_known_args()\n",
        "\n",
        "if args.data == 'IEMOCAP' and args.dilation_size != 10:\n",
        "  args.dilation_size = 10\n",
        "\n",
        "# allowing dynamic gpu memory growth\n",
        "os.environ['CUDA_VISIBLE_DEVICES'] = args.gpu\n",
        "gpus = tf.config.list_physical_devices(device_type='GPU')\n",
        "config = tf.compat.v1.ConfigProto()\n",
        "config.gpu_options.allow_growth = True\n",
        "session = tf.compat.v1.Session(config=config)\n",
        "print(f'GPU:{gpus}')\n"
      ],
      "metadata": {
        "colab": {
          "base_uri": "https://localhost:8080/"
        },
        "id": "Mzs27z9KnIYt",
        "outputId": "9034087b-8c6b-4ea4-dce3-e5562dc61c3b"
      },
      "execution_count": null,
      "outputs": [
        {
          "output_type": "stream",
          "name": "stdout",
          "text": [
            "GPU:[]\n"
          ]
        }
      ]
    },
    {
      "cell_type": "markdown",
      "source": [
        "## Dataset class labelling"
      ],
      "metadata": {
        "id": "7wIkNptfvSAg"
      }
    },
    {
      "cell_type": "code",
      "source": [
        "CLASS_LABELS_finetune = ('angry', 'fear', 'happy', 'neutral', 'sad')\n",
        "CASIA_CLASS_LABELS = ('angry', 'fear', 'happy', 'neutral', 'sad', 'surprise')\n",
        "EMODB_CLASS_LABELS = (\"angry\", \"boredom\", \"disgust\", \"fear\", \"happy\", \"neutral\", \"sad\")\n",
        "SAVEE_CLASS_LABELS = (\"angry\",\"disgust\", \"fear\", \"happy\", \"neutral\", \"sad\", \"surprise\")\n",
        "RAVDE_CLASS_LABELS = (\"angry\", \"calm\", \"disgust\", \"fear\", \"happy\", \"neutral\",\"sad\",\"surprise\")\n",
        "IEMOCAP_CLASS_LABELS = (\"angry\", \"happy\", \"neutral\", \"sad\")\n",
        "EMOVO_CLASS_LABELS = (\"angry\", \"disgust\", \"fear\", \"happy\",\"neutral\",\"sad\",\"surprise\")\n",
        "CLASS_LABLES_dict = {\n",
        "    \"CASIA\" : CASIA_CLASS_LABELS,\n",
        "    \"EMODB\" : EMODB_CLASS_LABELS,\n",
        "    \"SAVEE\" : SAVEE_CLASS_LABELS,\n",
        "    \"RAVDE\" : RAVDE_CLASS_LABELS,\n",
        "    \"IEMOCAP\" : IEMOCAP_CLASS_LABELS,\n",
        "    'EMOVO' : EMOVO_CLASS_LABELS\n",
        "}\n",
        "\n",
        "data = np.load('./MFCC/'+args.data+'.npy', allow_pickle=True).item()\n",
        "x_source = data[\"x\"]\n",
        "y_source = data[\"y\"]\n",
        "CLASS_LABELS = CLASS_LABLES_dict[args.data]\n",
        "\n"
      ],
      "metadata": {
        "id": "-93fMwY_pTdD"
      },
      "execution_count": null,
      "outputs": []
    },
    {
      "cell_type": "code",
      "source": [],
      "metadata": {
        "id": "38naMcGHwFfu"
      },
      "execution_count": null,
      "outputs": []
    },
    {
      "cell_type": "code",
      "source": [],
      "metadata": {
        "colab": {
          "base_uri": "https://localhost:8080/"
        },
        "id": "n2MqAEcBxQiV",
        "outputId": "21f0a1c2-b9be-4793-f267-2cd95e07c0fa"
      },
      "execution_count": null,
      "outputs": [
        {
          "output_type": "stream",
          "name": "stdout",
          "text": [
            "Cloning into 'TIM-Net_SER'...\n",
            "remote: Enumerating objects: 139, done.\u001b[K\n",
            "remote: Counting objects: 100% (136/136), done.\u001b[K\n",
            "remote: Compressing objects: 100% (90/90), done.\u001b[K\n",
            "remote: Total 139 (delta 50), reused 106 (delta 35), pack-reused 3\u001b[K\n",
            "Receiving objects: 100% (139/139), 2.66 MiB | 14.06 MiB/s, done.\n",
            "Resolving deltas: 100% (50/50), done.\n"
          ]
        }
      ]
    },
    {
      "cell_type": "code",
      "source": [],
      "metadata": {
        "colab": {
          "base_uri": "https://localhost:8080/"
        },
        "id": "PuoNaClxxX-d",
        "outputId": "30428b3d-f324-4d93-8635-b8bdc86ba934"
      },
      "execution_count": null,
      "outputs": [
        {
          "output_type": "stream",
          "name": "stdout",
          "text": [
            "fatal: not a git repository (or any of the parent directories): .git\n"
          ]
        }
      ]
    }
  ]
}